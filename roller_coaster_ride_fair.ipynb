{
 "cells": [
  {
   "cell_type": "code",
   "execution_count": null,
   "id": "f6a34f79",
   "metadata": {},
   "outputs": [],
   "source": [
    "x=int(input(\"enter your height :\"))\n",
    "\n",
    "if x>=120:\n",
    "    print(f\"You can ride the rollercoster\")\n",
    "    y=int(input(\"enter your age :\"))\n",
    "    if y<12:\n",
    "        bill=30\n",
    "        print(\"your fair is 30\")\n",
    "    elif y<18:\n",
    "        bill=50\n",
    "        print(\"your fair is 50\") \n",
    "    elif y>45 and y<55:\n",
    "        bill=0\n",
    "        print(\"your fair is 00\")\n",
    "        \n",
    "    z=(input(\"do yo want photo ? Y or N :\"))\n",
    "    if z==\"y\":\n",
    "        print(f\"{bill+10} is your total fair\")\n",
    "    else:\n",
    "        print(\"your total fair is\", bill)\n",
    "        \n",
    "else:\n",
    "    print(\"You cannot ride the rollercoster\")\n",
    "        "
   ]
  },
  {
   "cell_type": "code",
   "execution_count": null,
   "id": "15c67927",
   "metadata": {},
   "outputs": [],
   "source": []
  }
 ],
 "metadata": {
  "kernelspec": {
   "display_name": "Python 3 (ipykernel)",
   "language": "python",
   "name": "python3"
  },
  "language_info": {
   "codemirror_mode": {
    "name": "ipython",
    "version": 3
   },
   "file_extension": ".py",
   "mimetype": "text/x-python",
   "name": "python",
   "nbconvert_exporter": "python",
   "pygments_lexer": "ipython3",
   "version": "3.11.5"
  }
 },
 "nbformat": 4,
 "nbformat_minor": 5
}
